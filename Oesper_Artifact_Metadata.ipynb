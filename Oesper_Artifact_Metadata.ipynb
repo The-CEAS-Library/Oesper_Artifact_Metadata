{
  "cells": [
    {
      "cell_type": "markdown",
      "source": [
        "#### **Objective** - Extract multiple facets from **'artifact_metadata'** column in OESPER datafile and create a new file with these facets as column heads <br>\n",
        "* The facets and their corresponding values are stored as multiple single strings in each cell of the datafile. They will be split and stored as key-value pairs in a dictionary. **'pandas'** will be used to convert the dictionary into a dataframe and to export that dataframe to an excel file\n",
        "  * **Facets** - Location, Item No., Inventor, Dimensions, Period Represented, Manufacturer, Source, Status, Condition, Use "
      ],
      "metadata": {
        "id": "6v1EkdYJ8VST"
      }
      
    {
      "cell_type": "code",
      "execution_count": null,
      "metadata": {
        "id": "udcFqgSBU_fT"
      },
      "outputs": [],
      "source": [
        "import pandas as pd"
      ]
    },
    {
      "cell_type": "code",
      "execution_count": null,
      "metadata": {
        "id": "0Q8UoppyVRz8"
      },
      "outputs": [],
      "source": [
        "df = pd.read_csv('oesper.csv')"
      ]
    },
    {
      "cell_type": "markdown",
      "source": [
        "* Extract the **'artifact_metadata'** column and store it in a dataseries object **'df1'**\n",
        "* Split the **'artifact_metadata'** column using a newline character, **'\\n'**, to extract a list of individual strings that were separted by this newline character. Append these individual strings to an empty list, **'df2'**. This will result in a nested list of strings"
      ],
      "metadata": {
        "id": "dcguKt2CCwQq"
      }
    },
    {
      "cell_type": "code",
      "execution_count": null,
      "metadata": {
        "id": "kobbJ72nVZj8"
      },
      "outputs": [],
      "source": [
        "df1 = df['artifact_metadata']\n",
        "df2 = []\n",
        "for i in range(len(df1)):\n",
        "  df2.append(df1[i].split('\\n'))\n",
        "df2"
      ]
    },
    {
      "cell_type": "markdown",
      "source": [
        "* Look for any special characters that are of least interest in the list, and remove them from the list\n",
        "  * Remove the empty characters, ***' '***, that were appended as individual elements, from the list **'df2'**\n",
        "\n",
        "  **Note:** Use **'while'** loop to remove **all** the special characters. **'for'** loop will not remove all the specified characters as the length of the list/datatype changes for every iteration"
      ],
      "metadata": {
        "id": "tG--0jqefPnp"
      }
    },
    {
      "cell_type": "code",
      "execution_count": 59,
      "metadata": {
        "id": "rh7pC_2JWIJJ"
      },
      "outputs": [],
      "source": [
        "for i in range(len(df2)):\n",
        "  while '' in df2[i] :\n",
        "    df2[i].remove('')"
      ]
    },
    {
      "cell_type": "markdown",
      "source": [
        "* Iterate over the entire length of the list and replace any misinterpreted strings with correct strings at each index position of the list. Find the strings that are of least importance in the data, and replace them with empty strings,  ***' '***"
      ],
      "metadata": {
        "id": "NwNiBzy8lnv0"
      }
    },
    {
      "cell_type": "code",
      "source": [
        "for i in range(len(df2)):\n",
        "  for j in range(len(df2[i])):\n",
        "    df2[i][j] = df2[i][j].replace('Item: No.','Item No.:').replace('Various:','').replace('\\xa0','')"
      ],
      "metadata": {
        "id": "l69F0Af-wZXr"
      },
      "execution_count": 60,
      "outputs": []
    },
    {
      "cell_type": "markdown",
      "source": [
        "* Create a list with all the facets as strings. This will be used to append any missing facets into the nested lists"
      ],
      "metadata": {
        "id": "_FZRz9rIuGv7"
      }
    },
    {
      "cell_type": "code",
      "source": [
        "lst = ['Location: ','Item No.: ','Inventor: ','Dimensions: ','Period Represented: ','Manufacturer: ','Source: ','Status: ','Condition: ','Use: ']"
      ],
      "metadata": {
        "id": "vNl-rMCutNyw"
      },
      "execution_count": 61,
      "outputs": []
    },
    {
      "cell_type": "markdown",
      "source": [
        "* Check for any missing strings in the individual lists within the list **df2**. Append these missing strings to the lists of **df2** to create same length for all the lists of **df2**\n",
        "  * Search for the missing strings (facets) in the joined strings of the nested lists"
      ],
      "metadata": {
        "id": "-slZ3BHdvUNC"
      }
    },
    {
      "cell_type": "code",
      "source": [
        "for i in range(len(df2)):\n",
        "  for k in lst:\n",
        "    if k not in ' '.join(df2[i]):\n",
        "      df2[i].append(k)"
      ],
      "metadata": {
        "id": "c_Jf-xLVpjxu"
      },
      "execution_count": 62,
      "outputs": []
    },
    {
      "cell_type": "markdown",
      "source": [
        "* Split the strings in the nested lists using the first occurence of colon, **':'**, as the delimiter. After the split, every first string (facet) of each list will be used as a unique key to store the associated values"
      ],
      "metadata": {
        "id": "9ns4P8_96F3Y"
      }
    },
    {
      "cell_type": "code",
      "source": [
        "df3 = []\n",
        "for i in range(len(df2)):\n",
        "  for j in range(len(df2[i])):\n",
        "    df3.append(df2[i][j].split(':',1))\n",
        "    "
      ],
      "metadata": {
        "id": "9MpSoKeExz5H"
      },
      "execution_count": 63,
      "outputs": []
    },
    {
      "cell_type": "markdown",
      "source": [
        "* Create a dictionary with unique keys and empty lists as their values. The keys must be same as the first string values of the split strings in the nested lists\n",
        "* Compare the keys of the dictionary with the first string at every index position within the nested lists. If they are equal, append the rest of the strings in each nested list to the values' list of the key"
      ],
      "metadata": {
        "id": "c_RqYmmo-k2H"
      }
    },
    {
      "cell_type": "code",
      "source": [
        "dict2 = {'Location':[],'Item No.':[],'Inventor':[],'Dimensions':[],'Period Represented':[],'Manufacturer':[],'Source':[],'Status':[],'Condition':[],'Use':[]}\n",
        "\n",
        "for j in dict2: \n",
        "  for i in range(len(df3)):\n",
        "    if df3[i][0] == j:\n",
        "      dict2[j].append(df3[i][1:])\n",
        "    else:\n",
        "      pass"
      ],
      "metadata": {
        "id": "TybdSNIDoBj3"
      },
      "execution_count": 64,
      "outputs": []
    },
    {
      "cell_type": "markdown",
      "source": [
        "* Create a dataframe and use the dictionary's key-value pairs to insert values into the dataframe"
      ],
      "metadata": {
        "id": "tJ6hujKuFznm"
      }
    },
    {
      "cell_type": "code",
      "source": [
        "d1 = pd.DataFrame()"
      ],
      "metadata": {
        "id": "GReHVkUTrHUa"
      },
      "execution_count": 65,
      "outputs": []
    },
    {
      "cell_type": "markdown",
      "source": [
        "* Iterate over the dictionary to add the key-value pairs to the dataframe\n",
        "* Use dataseries objects to store each key-value pair\n",
        "* Concatenate the dataseries objects to the dataframe object"
      ],
      "metadata": {
        "id": "3EGSOjXBG3Ty"
      }
    },
    {
      "cell_type": "code",
      "source": [
        "for i in dict2:\n",
        "  d2 = pd.DataFrame(data=dict2[i],columns=[i])\n",
        "  d1 = pd.concat([d1,d2],axis=1)"
      ],
      "metadata": {
        "id": "RIJ3Th4x8uAg"
      },
      "execution_count": 66,
      "outputs": []
    },
    {
      "cell_type": "markdown",
      "source": [
        "* Export the dataframe to an excel file without the index column"
      ],
      "metadata": {
        "id": "bDa5rznYIfFS"
      }
    },
    {
      "cell_type": "code",
      "source": [
        "d1.to_excel('Oesper Artifact Metadata.xlsx', index=False)"
      ],
      "metadata": {
        "id": "BsqjodDFjd5v"
      },
      "execution_count": null,
      "outputs": []
    },
    {
      "cell_type": "code",
      "source": [
        "import pandas as pd\n",
        "import time\n",
        "df = pd.read_csv('oesper.csv')\n",
        "\n",
        "# Extract the column from the dataframe and save it to a dataseries object\n",
        "art_df = df['artifact_metadata']\n",
        "\n",
        "# Split each row of the art_df based on new line character with list comprehension\n",
        "df2 = [art_df[i].split('\\n') for i in range(len(art_df))]\n",
        "\n",
        " \n",
        "lst = ['Location: ','Item No.: ','Inventor: ','Dimensions: ','Period Represented: ','Manufacturer: ','Source: ','Status: ','Condition: ','Use: ']\n",
        "df3 = []\n",
        "\n",
        "for i in range(len(df2)):\n",
        "\n",
        "\n",
        "  df2[i] = df2[i]+ [feature for feature in lst if feature not in ' '.join(df2[i])]\n",
        "\n",
        "  df2[i][1] = df2[i][1].replace('Item: No.','Item No.:')\n",
        "\n",
        "  for j in range(len(df2[i])):\n",
        "    df2[i][j] = df2[i][j].replace('Various:','').replace('\\xa0','')\n",
        "    # if 'Various:' in df2[i][j]:\n",
        "    #   df2[i][j] = df2[i][j].replace('Various:','')\n",
        "    # else:\n",
        "    #   df2[i][j] = df2[i][j].replace('\\xa0','')\n",
        "      \n",
        "    df3.append(df2[i][j].split(':',1))\n",
        "\n",
        "\n",
        "\n",
        "\n",
        "dict2 = {'Location':[],'Item No.':[],'Inventor':[],'Dimensions':[],'Period Represented':[],'Manufacturer':[],'Source':[],'Status':[],'Condition':[],'Use':[]}\n",
        "d1 = pd.DataFrame()\n",
        "\n",
        "for key in dict2: \n",
        "  for index in range(len(df3)):\n",
        "    if df3[index][0] == key:\n",
        "      dict2[key].append(df3[index][1:])\n",
        "    else:\n",
        "      pass\n",
        "  d2 = pd.DataFrame(data=dict2[key],columns=[key])\n",
        "  d1 = pd.concat([d1,d2],axis=1)\n",
        "\n",
        " \n",
        "\n",
        "#d1.to_excel('Oesper Artifact Metadata.xlsx', index=False)"
      ],
      "metadata": {
        "id": "HoBSSvzJEXsD"
      },
      "execution_count": 56,
      "outputs": []
    }
  ],
  "metadata": {
    "colab": {
      "provenance": []
    },
    "kernelspec": {
      "display_name": "Python 3",
      "name": "python3"
    },
    "language_info": {
      "name": "python"
    }
  },
  "nbformat": 4,
  "nbformat_minor": 0
}
